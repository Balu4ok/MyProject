{
  "nbformat": 4,
  "nbformat_minor": 0,
  "metadata": {
    "colab": {
      "provenance": [],
      "include_colab_link": true
    },
    "kernelspec": {
      "name": "python3",
      "display_name": "Python 3"
    },
    "language_info": {
      "name": "python"
    }
  },
  "cells": [
    {
      "cell_type": "markdown",
      "metadata": {
        "id": "view-in-github",
        "colab_type": "text"
      },
      "source": [
        "<a href=\"https://colab.research.google.com/github/Balu4ok/MyProject/blob/main/%D0%9B%D1%802_%D0%93%D0%B0%D1%80%D0%BA%D1%83%D1%88%D0%B0_%D0%9E%D0%BB%D1%8C%D0%B3%D0%B0%2C_%D0%92%D0%B0%D1%80%D1%96%D0%B0%D0%BD%D1%82_4_ipynb%22.ipynb\" target=\"_parent\"><img src=\"https://colab.research.google.com/assets/colab-badge.svg\" alt=\"Open In Colab\"/></a>"
      ]
    },
    {
      "cell_type": "markdown",
      "source": [
        "1. Метод ділення навпіл."
      ],
      "metadata": {
        "id": "VgrW9zRY0dVt"
      }
    },
    {
      "cell_type": "code",
      "execution_count": 1,
      "metadata": {
        "colab": {
          "base_uri": "https://localhost:8080/"
        },
        "id": "iOTNXySVyeHy",
        "outputId": "f5d0ed1b-39f9-4ccc-9a41-e6a935c048b9"
      },
      "outputs": [
        {
          "output_type": "stream",
          "name": "stdout",
          "text": [
            "Результати обчислень\n",
            "\n",
            "          a      F(a)         c      F(c)       b      F(b)\n",
            "0 -3.000000  0.977954 -2.000000  1.135204 -1.0000 -0.454649\n",
            "1 -2.000000  1.135204 -1.500000 -0.123480 -1.0000 -0.454649\n",
            "2 -2.000000  1.135204 -1.750000  0.405593 -1.5000 -0.123480\n",
            "3 -1.750000  0.405593 -1.625000  0.109040 -1.5000 -0.123480\n",
            "4 -1.625000  0.109040 -1.562500 -0.015587 -1.5000 -0.123480\n",
            "5 -1.625000  0.109040 -1.593750  0.044659 -1.5625 -0.015587\n",
            "6 -1.593750  0.044659 -1.578125  0.014015 -1.5625 -0.015587\n",
            "7 -1.578125  0.014015 -1.570312 -0.000917 -1.5625 -0.015587\n",
            "\n",
            "В точці с =  -1.5703125 , f(c) =  -0.0009171268569415665\n"
          ]
        }
      ],
      "source": [
        "import numpy as np\n",
        "import pandas as pd\n",
        "\n",
        "# Визначаємо функцію\n",
        "def f (x):\n",
        "    y = np.cos(x)*np.sin(x)*(x**2+x+1)\n",
        "    return y\n",
        "# Визначаємо границі відрізку\n",
        "a = -3\n",
        "b = -1\n",
        "# Визначаємо точність розв'язку\n",
        "h = 0.001\n",
        "# Поділяємо відрізок навпіл\n",
        "c = (a+b)/2\n",
        "# Зберігаємо результати обчислень\n",
        "data_A = [a]\n",
        "data_B = [b]\n",
        "data_C = [c]\n",
        "data_F_A = [f(a)]\n",
        "data_F_B = [f(b)]\n",
        "data_F_C = [f(c)]\n",
        "# Перевіряємо досягнення точності\n",
        "while abs(f(c)) > h:\n",
        "    # Звужуємо відрізок\n",
        "    if np.sign(f(c)) == np.sign(f(a)):\n",
        "        a = c\n",
        "    else:\n",
        "        b = c\n",
        "    # Поділяємо відрізок навпіл\n",
        "    c = (a+b)/2\n",
        "    # Зберігаємо результати обчислень\n",
        "    data_A.append(a)\n",
        "    data_B.append(b)\n",
        "    data_C.append(c)\n",
        "    data_F_A.append(f(a))\n",
        "    data_F_B.append(f(b))\n",
        "    data_F_C.append(f(c))\n",
        "# Відображаємо результати обчислень\n",
        "print('Результати обчислень')\n",
        "print()\n",
        "data = pd.DataFrame({'a': data_A,\n",
        "                     'F(a)': data_F_A,\n",
        "                     'c': data_C,\n",
        "                     'F(c)': data_F_C,\n",
        "                     'b': data_B,\n",
        "                     'F(b)': data_F_B})\n",
        "print(data)\n",
        "# Відображаємо наближений корінь рівняння\n",
        "print()\n",
        "print('В точці с = ', c, ', f(c) = ', f(c))"
      ]
    },
    {
      "cell_type": "markdown",
      "source": [
        "2. Метод ділення навпіл"
      ],
      "metadata": {
        "id": "5hYa7ucn0PEN"
      }
    },
    {
      "cell_type": "code",
      "source": [
        "import numpy as np\n",
        "import scipy.optimize as sp\n",
        "\n",
        "def f(x):\n",
        "    y = np.cos(x)*np.sin(x)*(x**2+x+1)\n",
        "    return y\n",
        "\n",
        "a, b = -3, -1\n",
        "tol = 1.e-3\n",
        "\n",
        "x = sp.bisect(f, a, b,(),tol) #функція для метода\n",
        "\n",
        "print('The approximate solution x is:', x)\n",
        "print('And the value f(x) is:', f(x))"
      ],
      "metadata": {
        "colab": {
          "base_uri": "https://localhost:8080/"
        },
        "id": "ML3KEw5q0H1e",
        "outputId": "ae56d058-7f43-44fa-d2da-c84f4eb9a1dc"
      },
      "execution_count": 2,
      "outputs": [
        {
          "output_type": "stream",
          "name": "stdout",
          "text": [
            "The approximate solution x is: -1.5712890625\n",
            "And the value f(x) is: 0.0009350448126615916\n"
          ]
        }
      ]
    },
    {
      "cell_type": "markdown",
      "source": [
        "3. Метод хорд"
      ],
      "metadata": {
        "id": "sYf0IvR41ufd"
      }
    },
    {
      "cell_type": "code",
      "source": [
        "import numpy as np\n",
        "import pandas as pd\n",
        "# Визначаємо функцію\n",
        "def f(x):\n",
        "    y = np.cos(x)*np.sin(x)*(x**2+x+1)\n",
        "    return y\n",
        "# Визначаємо межі відрізку\n",
        "a = -3\n",
        "b = -1\n",
        "# Визначаємо точність розв'язку\n",
        "h = 0.001\n",
        "# Точка, де хорда перетинає вісь 0x\n",
        "c = (f(a)*b-a*f(b))/(f(a)-f(b))\n",
        "\n",
        "# Зберігаємо результати обчислень\n",
        "data_A = [a]\n",
        "data_B = [b]\n",
        "data_C = [c]\n",
        "data_F_A = [f(a)]\n",
        "data_F_B = [f(b)]\n",
        "data_F_C = [f(c)]\n",
        "# Перевіряємо досягнення точності\n",
        "while abs(f(c)) > h:\n",
        "    # Звужуємо відрізок\n",
        "    if np.sign(f(c)) == np.sign(f(a)):\n",
        "        a = c\n",
        "    else:\n",
        "        b = c\n",
        "    # Точка, де хорда перетинає вісь 0x\n",
        "    c = (f(a)*b-a*f(b))/(f(a)-f(b))\n",
        "    # Зберігаємо результати обчислень\n",
        "    data_A.append(a)\n",
        "    data_B.append(b)\n",
        "    data_C.append(c)\n",
        "    data_F_A.append(f(a))\n",
        "    data_F_B.append(f(b))\n",
        "    data_F_C.append(f(c))\n",
        "# Відображаємо результати обчислень\n",
        "print('Результати обчислень')\n",
        "print()\n",
        "data = pd.DataFrame({'a': data_A, 'F(a)': data_F_A,\n",
        "                     'c': data_C, 'F(c)': data_F_C,\n",
        "                     'b': data_B, 'F(b)': data_F_B})\n",
        "print(data)\n",
        "# Відображаємо наближений корінь рівняння\n",
        "print()\n",
        "print('В точці с = ', c, ', f(c) = ', f(c))"
      ],
      "metadata": {
        "colab": {
          "base_uri": "https://localhost:8080/"
        },
        "id": "3p6i5xHK1y3l",
        "outputId": "31933784-0369-45bc-99d6-3858880642ac"
      },
      "execution_count": 3,
      "outputs": [
        {
          "output_type": "stream",
          "name": "stdout",
          "text": [
            "Результати обчислень\n",
            "\n",
            "          a      F(a)         c      F(c)         b      F(b)\n",
            "0 -3.000000  0.977954 -1.634717  0.129889 -1.000000 -0.454649\n",
            "1 -1.634717  0.129889 -1.493678 -0.133455 -1.000000 -0.454649\n",
            "2 -1.634717  0.129889 -1.565152 -0.010636 -1.493678 -0.133455\n",
            "3 -1.634717  0.129889 -1.570418 -0.000718 -1.565152 -0.010636\n",
            "\n",
            "В точці с =  -1.5704175737258015 , f(c) =  -0.0007180376446871882\n"
          ]
        }
      ]
    },
    {
      "cell_type": "markdown",
      "source": [
        "4. Метод Ньютона (дотичних)"
      ],
      "metadata": {
        "id": "40blPBSK2Cdm"
      }
    },
    {
      "cell_type": "code",
      "source": [
        "import numpy as np\n",
        "import pandas as pd\n",
        "# Визначаємо функцію\n",
        "def f(x):\n",
        "    y = np.cos(x)*np.sin(x)*(x**2+x+1)\n",
        "    return y\n",
        "# Визначаємо першу похідну\n",
        "def df(x):\n",
        "    y1 = -(x**2+x+1)*(np.sin(x))**2\n",
        "    y2 = (x**2+x+1)*(np.cos(x))**2\n",
        "    y3 = (2*x+1)*np.sin(x)*np.cos(x)\n",
        "    y = y1+y2+y3\n",
        "    return y\n",
        "# Визначаємо початкову точку\n",
        "c = -1.4\n",
        "# Визначаємо точність розв'язку\n",
        "h = 0.001\n",
        "# Зберігаємо результати обчислень\n",
        "data_C = [c]\n",
        "data_F_C = [f(c)]\n",
        "# Перевіряємо досягнення точності\n",
        "while abs(f(c)) > h:\n",
        "    # Точка, де дотична перетинає вісь 0x\n",
        "    c -= f(c)/df(c)\n",
        "    # Зберігаємо результати обчислень\n",
        "    data_C.append(c)\n",
        "    data_F_C.append(f(c))\n",
        "# Відображаємо результати обчислень\n",
        "print('Результати обчислень')\n",
        "print()\n",
        "data = pd.DataFrame({'c': data_C, 'F(c)': data_F_C})\n",
        "print(data)\n",
        "# Відображаємо наближений корінь рівняння\n",
        "print()\n",
        "print('В точці с = ', c, ', f(c) = ', f(c))"
      ],
      "metadata": {
        "colab": {
          "base_uri": "https://localhost:8080/"
        },
        "id": "WeGQjbjW2HDz",
        "outputId": "57709bba-0f9b-4b84-af47-d6f1c37349cb"
      },
      "execution_count": 4,
      "outputs": [
        {
          "output_type": "stream",
          "name": "stdout",
          "text": [
            "Результати обчислень\n",
            "\n",
            "          c      F(c)\n",
            "0 -1.400000 -0.261291\n",
            "1 -1.623636  0.106144\n",
            "2 -1.573564  0.005266\n",
            "3 -1.570805  0.000016\n",
            "\n",
            "В точці с =  -1.5708049170979717 , f(c) =  1.6292567852764437e-05\n"
          ]
        }
      ]
    },
    {
      "cell_type": "markdown",
      "source": [
        "5. Метод Ньютона (дотичних)"
      ],
      "metadata": {
        "id": "qjI38bTp0xCo"
      }
    },
    {
      "cell_type": "code",
      "source": [
        "import numpy as np\n",
        "import scipy.optimize as sp\n",
        "\n",
        "def f(x):\n",
        "    y = np.cos(x)*np.sin(x)*(x**2+x+1)\n",
        "    return y\n",
        "\n",
        "def df(x):# Обчислення похідної\n",
        "    y1 = -(x**2+x+1)*(np.sin(x))**2\n",
        "    y2 = (x**2+x+1)*(np.cos(x))**2\n",
        "    y3 = (2*x+1)*np.sin(x)*np.cos(x)\n",
        "    y = y1+y2+y3\n",
        "    return y\n",
        "\n",
        "x0 = -1.4\n",
        "x1 = 1.4\n",
        "\n",
        "x_0 = sp.newton(f, x0, df, tol=1.e-3, maxiter=50)\n",
        "x_1 = sp.newton(f, x1, df, tol=1.e-3, maxiter=50)\n",
        "\n",
        "print('The approximate solution x is:', x_0)\n",
        "print('And the value f(x_0) is:', f(x_0))\n",
        "\n",
        "print('The approximate solution x is:', x_1)\n",
        "print('And the value f(x_0) is:', f(x_1))"
      ],
      "metadata": {
        "colab": {
          "base_uri": "https://localhost:8080/"
        },
        "id": "AonZxq_H0m6-",
        "outputId": "1e1212ab-d137-4481-bf25-ea96d71e00d3"
      },
      "execution_count": 5,
      "outputs": [
        {
          "output_type": "stream",
          "name": "stdout",
          "text": [
            "The approximate solution x is: -1.5707963268782201\n",
            "And the value f(x_0) is: 1.5803176499052036e-10\n",
            "The approximate solution x is: 1.5707963267958693\n",
            "And the value f(x_0) is: -4.9007361645997675e-12\n"
          ]
        }
      ]
    },
    {
      "cell_type": "markdown",
      "source": [
        " # Знаходження коренів рівняння за допомогою бібліотеки SymPy"
      ],
      "metadata": {
        "id": "pvK9N9TH1QD-"
      }
    },
    {
      "cell_type": "code",
      "source": [
        "import sympy as sym\n",
        "\n",
        "x = sym.Symbol('x')\n",
        "\n",
        "y = sym.cos(x)*sym.sin(x)*(x**2+x+1)\n",
        "\n",
        "s = sym.solve(y)\n",
        "\n",
        "print(s)"
      ],
      "metadata": {
        "colab": {
          "base_uri": "https://localhost:8080/"
        },
        "id": "PuAp1WCr08qt",
        "outputId": "3bc8926f-3efe-471c-c1b8-b8f66ec046b2"
      },
      "execution_count": 6,
      "outputs": [
        {
          "output_type": "stream",
          "name": "stdout",
          "text": [
            "[0, pi/2, pi, 3*pi/2, -1/2 - sqrt(3)*I/2, -1/2 + sqrt(3)*I/2]\n"
          ]
        }
      ]
    },
    {
      "cell_type": "code",
      "source": [
        "import sympy as sym\n",
        "\n",
        "x, a, b, c = sym.symbols('x, a, b, c')\n",
        "\n",
        "y = a * x**2 + b * x + c\n",
        "\n",
        "s = sym.solve(y, x)\n",
        "\n",
        "print(s)"
      ],
      "metadata": {
        "colab": {
          "base_uri": "https://localhost:8080/"
        },
        "id": "Y0d-uHtp1c7r",
        "outputId": "9004c747-7438-462c-ccbb-d8ef2d2bdd2a"
      },
      "execution_count": 7,
      "outputs": [
        {
          "output_type": "stream",
          "name": "stdout",
          "text": [
            "[(-b - sqrt(-4*a*c + b**2))/(2*a), (-b + sqrt(-4*a*c + b**2))/(2*a)]\n"
          ]
        }
      ]
    },
    {
      "cell_type": "markdown",
      "source": [],
      "metadata": {
        "id": "mk1oBvYj1GC2"
      }
    },
    {
      "cell_type": "code",
      "source": [
        "!pip install numdifftools"
      ],
      "metadata": {
        "colab": {
          "base_uri": "https://localhost:8080/"
        },
        "id": "yiLJNuM3Cq0-",
        "outputId": "cb58b940-063b-4a63-ab43-72398157decf"
      },
      "execution_count": 8,
      "outputs": [
        {
          "output_type": "stream",
          "name": "stdout",
          "text": [
            "Collecting numdifftools\n",
            "  Downloading numdifftools-0.9.41-py2.py3-none-any.whl.metadata (39 kB)\n",
            "Requirement already satisfied: numpy>=1.9 in /usr/local/lib/python3.12/dist-packages (from numdifftools) (2.0.2)\n",
            "Requirement already satisfied: scipy>=0.8 in /usr/local/lib/python3.12/dist-packages (from numdifftools) (1.16.1)\n",
            "Downloading numdifftools-0.9.41-py2.py3-none-any.whl (100 kB)\n",
            "\u001b[2K   \u001b[90m━━━━━━━━━━━━━━━━━━━━━━━━━━━━━━━━━━━━━━━━\u001b[0m \u001b[32m100.2/100.2 kB\u001b[0m \u001b[31m4.8 MB/s\u001b[0m eta \u001b[36m0:00:00\u001b[0m\n",
            "\u001b[?25hInstalling collected packages: numdifftools\n",
            "Successfully installed numdifftools-0.9.41\n"
          ]
        }
      ]
    },
    {
      "cell_type": "code",
      "source": [
        "#Лабораторна робота 2\n",
        "#Відокремлення коренів\n",
        "import numpy as np\n",
        "import numdifftools as nd\n",
        "\n",
        "def f(x):\n",
        "    return x**4 + 4*x**3 - 8*x**2 - 17\n",
        "\n",
        "\n",
        "def find_segments(): #відокремлюємо корені\n",
        "    search_range = np.arange(-10, 5, 1)\n",
        "\n",
        "    a = None\n",
        "    previous_x = None\n",
        "    current_x  = None\n",
        "    segments = []\n",
        "\n",
        "    for x in search_range:\n",
        "        x = round(x, 4)\n",
        "        current_x = f(x)\n",
        "        if previous_x != None and previous_x * current_x < 0:\n",
        "            segments.append((a, x))\n",
        "        a = x\n",
        "        previous_x = current_x\n",
        "    return segments\n",
        "\n",
        "segments = find_segments()\n",
        "for a, b in segments:\n",
        "    print(f'Found segment:  [{a}, {b}]')\n"
      ],
      "metadata": {
        "colab": {
          "base_uri": "https://localhost:8080/"
        },
        "id": "L-9dn4npCso-",
        "outputId": "95b1aa47-592a-4661-ba7e-5e31bf83f523"
      },
      "execution_count": 9,
      "outputs": [
        {
          "output_type": "stream",
          "name": "stdout",
          "text": [
            "Found segment:  [-6, -5]\n",
            "Found segment:  [2, 3]\n"
          ]
        }
      ]
    },
    {
      "cell_type": "code",
      "source": [
        "import numpy as np\n",
        "import matplotlib.pyplot as plt\n",
        "\n",
        "# Визначення функції\n",
        "def f(x):\n",
        "    return x**4 + 4*x**3 - 8*x**2 - 17\n",
        "\n",
        "# Генерація значень x\n",
        "x = np.linspace(-6, 4, 100)\n",
        "\n",
        "# Генерація значень y\n",
        "y = f(x)\n",
        "\n",
        "# Побудова графіка\n",
        "plt.figure(figsize=(8, 6))\n",
        "plt.plot(x, y, label='x**4 + 4*x**3 - 8*x**2 - 17 ', color='blue')\n",
        "plt.title('Графік функції x**4 + 4*x**3 - 8*x**2 - 17 ')\n",
        "plt.xlabel('x')\n",
        "plt.ylabel('f(x)')\n",
        "\n",
        "# Додавання осей з стрілками\n",
        "plt.axhline(0, color='black', linewidth=0.5)\n",
        "plt.axvline(0, color='black', linewidth=0.5)\n",
        "\n",
        "plt.text(2.05, -4, 'x', ha='center', va='center')\n",
        "plt.text(-0.3, 190, 'y', ha='center', va='center')\n",
        "\n",
        "plt.grid(True)\n",
        "plt.legend()\n",
        "plt.show()\n"
      ],
      "metadata": {
        "colab": {
          "base_uri": "https://localhost:8080/",
          "height": 564
        },
        "id": "7zUI3d1xZXar",
        "outputId": "c0ea889e-bf4d-4ec5-a97c-3c722eca6802"
      },
      "execution_count": 10,
      "outputs": [
        {
          "output_type": "display_data",
          "data": {
            "text/plain": [
              "<Figure size 800x600 with 1 Axes>"
            ],
            "image/png": "[encoded data removed]"
          },
          "metadata": {}
        }
      ]
    },
    {
      "cell_type": "markdown",
      "source": [
        "![photo_2025-09-12_14-13-52.jpg](data:image/jpeg;base64,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)"
      ],
      "metadata": {
        "id": "QnZeQf-KojqR"
      }
    },
    {
      "cell_type": "code",
      "source": [
        "#Лабораторна робота. Метод половинного ділення, хорд\n",
        "\n",
        "\n",
        "def rec(a, b, eps):  # метод половинного ділення\n",
        "    while (abs(a - b) > eps):\n",
        "        if f(a) * f((a + b) / 2) < 0:\n",
        "            b = (a + b) / 2\n",
        "        else:\n",
        "            a = (a + b) / 2\n",
        "        x = (a + b) / 2\n",
        "\n",
        "    print('x= ', round(x, 5), '  -   Half division method')\n"
      ],
      "metadata": {
        "id": "BgjK94O9Cfxe"
      },
      "execution_count": 11,
      "outputs": []
    },
    {
      "cell_type": "code",
      "source": [
        "def hord(a, b, eps):  # метод хорд\n",
        "    derivative_f = nd.Derivative(f, n=1)\n",
        "    if f(a) * derivative_f(a) > 0:\n",
        "        x0 = a\n",
        "        xi = b\n",
        "    else:\n",
        "        x0 = b\n",
        "        xi = a\n",
        "    xi_1 = xi - (xi - x0) * f(xi) / (f(xi) - f(x0))\n",
        "    while (abs(xi_1 - xi) > eps):\n",
        "        xi = xi_1\n",
        "        xi_1 = xi - (xi - x0) * f(xi) / (f(xi) - f(x0))\n",
        "    print('x= ', round(xi_1, 5), '  -   Chord method')\n"
      ],
      "metadata": {
        "id": "Sz_KWVf7D2tL"
      },
      "execution_count": 15,
      "outputs": []
    },
    {
      "cell_type": "code",
      "source": [
        "if __name__ == \"__main__\":\n",
        "    a1, b1 = -2, -1\n",
        "    a2, b2 = 0, 1\n",
        "    eps = 0.001\n",
        "    print(\"Розв'язки на відрізку [-5,-6]\")\n",
        "    rec(a1, b1, eps)\n",
        "    hord(a1, b1, eps)\n",
        "    print(\"\\n Розв'язки на відрізку [2,3]\")\n",
        "    rec(a2, b2, eps)\n",
        "    hord(a2, b2, eps)"
      ],
      "metadata": {
        "id": "upx7R4yoFZj_",
        "outputId": "4fed1e91-9141-4984-af33-5e80202dbbbd",
        "colab": {
          "base_uri": "https://localhost:8080/"
        }
      },
      "execution_count": null,
      "outputs": [
        {
          "output_type": "stream",
          "name": "stdout",
          "text": [
            "Розв'язки на відрізку [-5,-6]\n",
            "x=  -1.00049   -   Half division method\n"
          ]
        }
      ]
    },
    {
      "cell_type": "code",
      "source": [
        "#Лабораторна робота 3. Метод Ньютона (дотичних). Комбінований метод\n",
        "\n",
        "def nuton(a, b, eps, f):\n",
        "    df2 = nd.Derivative(f, n=2)(b)  # Отримуємо значення похідної другого порядку в точці b\n",
        "    if f(b) * df2 > 0:\n",
        "        xi = b\n",
        "    else:\n",
        "        xi = a\n",
        "    df = nd.Derivative(f, n=1)(xi)  # Отримуємо значення похідної першого порядку в точці xi\n",
        "    xi_1 = xi - f(xi) / df\n",
        "    while abs(xi_1 - xi) > eps:  # перевіряємо точність\n",
        "        xi = xi_1\n",
        "        xi_1 = xi - f(xi) / df\n",
        "    print('Метод Ньютона, x = ', xi_1.round(4))\n"
      ],
      "metadata": {
        "id": "uz6OF8g2C-vY"
      },
      "execution_count": null,
      "outputs": []
    },
    {
      "cell_type": "code",
      "source": [
        "def komb(a, b, eps, f):\n",
        "    df2 = nd.Derivative(f, n=2)(a)\n",
        "    if f(a) * df2 > 0:\n",
        "        a0 = a\n",
        "        b0 = b\n",
        "    else:\n",
        "        a0 = b\n",
        "        b0 = a\n",
        "    ai = a0\n",
        "    bi = b0\n",
        "    while abs(ai - bi) > eps:\n",
        "        ai_1 = ai - f(ai) * (bi - ai) / (f(bi) - f(ai))\n",
        "        bi_1 = bi - f(bi) / nd.Derivative(f, n=1)(bi)\n",
        "        ai = ai_1\n",
        "        bi = bi_1\n",
        "    x = (ai_1 + bi_1) / 2\n",
        "\n",
        "    print('Комбінований метод, x = ', x.round(4))\n"
      ],
      "metadata": {
        "id": "M2T4FA4ifyy_"
      },
      "execution_count": null,
      "outputs": []
    },
    {
      "cell_type": "code",
      "source": [
        "if __name__ == \"__main__\":\n",
        "    a1, b1 = -2, -1\n",
        "    a2, b2 = 0, 1\n",
        "    eps = 0.001\n",
        "\n",
        "    print(\"Розв'язання на відрізку [-2, -1]\")\n",
        "    nuton(a1, b1, eps, f)\n",
        "    komb(a1, b1, eps, f)\n",
        "    print(\"\\n Розв'язання на відрізку [0, 1]\")\n",
        "    nuton(a2, b2, eps, f)\n",
        "    komb(a2, b2, eps, f)"
      ],
      "metadata": {
        "colab": {
          "base_uri": "https://localhost:8080/"
        },
        "id": "zrxTpvysf0zN",
        "outputId": "0e1afa74-0294-41c2-a7bc-28169da1aafc"
      },
      "execution_count": null,
      "outputs": [
        {
          "output_type": "stream",
          "name": "stdout",
          "text": [
            "Розв'язання на відрізку [-2, -1]\n",
            "Метод Ньютона, x =  -1.3479\n",
            "Комбінований метод, x =  -1.3447\n",
            "\n",
            " Розв'язання на відрізку [0, 1]\n",
            "Метод Ньютона, x =  0.7915\n",
            "Комбінований метод, x =  0.7909\n"
          ]
        }
      ]
    }
  ]
}