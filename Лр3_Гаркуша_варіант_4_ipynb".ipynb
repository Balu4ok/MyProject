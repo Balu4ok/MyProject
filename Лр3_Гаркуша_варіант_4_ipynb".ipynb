{
  "nbformat": 4,
  "nbformat_minor": 0,
  "metadata": {
    "colab": {
      "provenance": [],
      "include_colab_link": true
    },
    "kernelspec": {
      "name": "python3",
      "display_name": "Python 3"
    },
    "language_info": {
      "name": "python"
    }
  },
  "cells": [
    {
      "cell_type": "markdown",
      "metadata": {
        "id": "view-in-github",
        "colab_type": "text"
      },
      "source": [
        "<a href=\"https://colab.research.google.com/github/Balu4ok/MyProject/blob/main/%D0%9B%D1%803_%D0%93%D0%B0%D1%80%D0%BA%D1%83%D1%88%D0%B0_%D0%B2%D0%B0%D1%80%D1%96%D0%B0%D0%BD%D1%82_4_ipynb%22.ipynb\" target=\"_parent\"><img src=\"https://colab.research.google.com/assets/colab-badge.svg\" alt=\"Open In Colab\"/></a>"
      ]
    },
    {
      "cell_type": "markdown",
      "source": [
        "Філімонова Тетяна. Варіант 3"
      ],
      "metadata": {
        "id": "HlvFbYQzhdIu"
      }
    },
    {
      "cell_type": "markdown",
      "source": [
        "1. Метод ділення навпіл."
      ],
      "metadata": {
        "id": "VgrW9zRY0dVt"
      }
    },
    {
      "cell_type": "code",
      "execution_count": 1,
      "metadata": {
        "colab": {
          "base_uri": "https://localhost:8080/"
        },
        "id": "iOTNXySVyeHy",
        "outputId": "d18ac1b9-87b7-4f1c-adc5-ce06cbe15972"
      },
      "outputs": [
        {
          "output_type": "stream",
          "name": "stdout",
          "text": [
            "Результати обчислень\n",
            "\n",
            "          a      F(a)         c      F(c)       b      F(b)\n",
            "0 -3.000000  0.977954 -2.000000  1.135204 -1.0000 -0.454649\n",
            "1 -2.000000  1.135204 -1.500000 -0.123480 -1.0000 -0.454649\n",
            "2 -2.000000  1.135204 -1.750000  0.405593 -1.5000 -0.123480\n",
            "3 -1.750000  0.405593 -1.625000  0.109040 -1.5000 -0.123480\n",
            "4 -1.625000  0.109040 -1.562500 -0.015587 -1.5000 -0.123480\n",
            "5 -1.625000  0.109040 -1.593750  0.044659 -1.5625 -0.015587\n",
            "6 -1.593750  0.044659 -1.578125  0.014015 -1.5625 -0.015587\n",
            "7 -1.578125  0.014015 -1.570312 -0.000917 -1.5625 -0.015587\n",
            "\n",
            "В точці с =  -1.5703125 , f(c) =  -0.0009171268569415665\n"
          ]
        }
      ],
      "source": [
        "import numpy as np\n",
        "import pandas as pd\n",
        "\n",
        "# Визначаємо функцію\n",
        "def f (x):\n",
        "    y = np.cos(x)*np.sin(x)*(x**2+x+1)\n",
        "    return y\n",
        "# Визначаємо границі відрізку\n",
        "a, b = -3, -1\n",
        "# Визначаємо точність розв'язку\n",
        "eps = 0.001\n",
        "# Поділяємо відрізок навпіл\n",
        "c = (a+b)/2\n",
        "# Зберігаємо результати обчислень\n",
        "data_A = [a]\n",
        "data_B = [b]\n",
        "data_C = [c]\n",
        "data_F_A = [f(a)]\n",
        "data_F_B = [f(b)]\n",
        "data_F_C = [f(c)]\n",
        "# Перевіряємо досягнення точності\n",
        "while np.abs(f(c)) > eps:\n",
        "    # Звужуємо відрізок\n",
        "    if np.sign(f(c)) == np.sign(f(a)):\n",
        "        a = c\n",
        "    else:\n",
        "        b = c\n",
        "    # Поділяємо відрізок навпіл\n",
        "    c = (a+b)/2\n",
        "    # Зберігаємо результати обчислень\n",
        "    data_A.append(a)\n",
        "    data_B.append(b)\n",
        "    data_C.append(c)\n",
        "    data_F_A.append(f(a))\n",
        "    data_F_B.append(f(b))\n",
        "    data_F_C.append(f(c))\n",
        "# Відображаємо результати обчислень\n",
        "print('Результати обчислень')\n",
        "print()\n",
        "data = pd.DataFrame({'a': data_A,\n",
        "                     'F(a)': data_F_A,\n",
        "                     'c': data_C,\n",
        "                     'F(c)': data_F_C,\n",
        "                     'b': data_B,\n",
        "                     'F(b)': data_F_B})\n",
        "print(data)\n",
        "# Відображаємо наближений корінь рівняння\n",
        "print()\n",
        "print('В точці с = ', c, ', f(c) = ', f(c))"
      ]
    },
    {
      "cell_type": "markdown",
      "source": [
        "2. Метод ділення навпіл"
      ],
      "metadata": {
        "id": "5hYa7ucn0PEN"
      }
    },
    {
      "cell_type": "code",
      "source": [
        "import numpy as np\n",
        "import scipy.optimize as sp\n",
        "\n",
        "def f(x):\n",
        "    y = np.cos(x)*np.sin(x)*(x**2+x+1)\n",
        "    return y\n",
        "\n",
        "a, b = -3, -1\n",
        "eps = 1.e-3\n",
        "\n",
        "x = sp.bisect(f, a, b,(),eps) #функція для метода\n",
        "\n",
        "print('The approximate solution x is:', x)\n",
        "print('And the value f(x) is:', f(x))"
      ],
      "metadata": {
        "colab": {
          "base_uri": "https://localhost:8080/"
        },
        "id": "ML3KEw5q0H1e",
        "outputId": "7082dd48-1e3a-4b4b-f8e3-20f1d6472ec0"
      },
      "execution_count": 2,
      "outputs": [
        {
          "output_type": "stream",
          "name": "stdout",
          "text": [
            "The approximate solution x is: -1.5712890625\n",
            "And the value f(x) is: 0.0009350448126615916\n"
          ]
        }
      ]
    },
    {
      "cell_type": "markdown",
      "source": [
        "3. Метод хорд"
      ],
      "metadata": {
        "id": "sYf0IvR41ufd"
      }
    },
    {
      "cell_type": "code",
      "source": [
        "import numpy as np\n",
        "import pandas as pd\n",
        "# Визначаємо функцію\n",
        "def f(x):\n",
        "    y = np.cos(x)*np.sin(x)*(x**2+x+1)\n",
        "    return y\n",
        "# Визначаємо межі відрізку\n",
        "a, b = -3, -1\n",
        "# Визначаємо точність розв'язку\n",
        "eps = 0.001\n",
        "# Точка, де хорда перетинає вісь 0x\n",
        "c = (f(a)*b-a*f(b))/(f(a)-f(b))\n",
        "\n",
        "# Зберігаємо результати обчислень\n",
        "data_A = [a]\n",
        "data_B = [b]\n",
        "data_C = [c]\n",
        "data_F_A = [f(a)]\n",
        "data_F_B = [f(b)]\n",
        "data_F_C = [f(c)]\n",
        "# Перевіряємо досягнення точності\n",
        "while np.abs(f(c)) > eps:\n",
        "    # Звужуємо відрізок\n",
        "    if np.sign(f(c)) == np.sign(f(a)):\n",
        "        a = c\n",
        "    else:\n",
        "        b = c\n",
        "    # Точка, де хорда перетинає вісь 0x\n",
        "    c = (f(a)*b-a*f(b))/(f(a)-f(b))\n",
        "    # Зберігаємо результати обчислень\n",
        "    data_A.append(a)\n",
        "    data_B.append(b)\n",
        "    data_C.append(c)\n",
        "    data_F_A.append(f(a))\n",
        "    data_F_B.append(f(b))\n",
        "    data_F_C.append(f(c))\n",
        "# Відображаємо результати обчислень\n",
        "print('Результати обчислень')\n",
        "print()\n",
        "data = pd.DataFrame({'a': data_A, 'F(a)': data_F_A,\n",
        "                     'c': data_C, 'F(c)': data_F_C,\n",
        "                     'b': data_B, 'F(b)': data_F_B})\n",
        "print(data)\n",
        "# Відображаємо наближений корінь рівняння\n",
        "print()\n",
        "print('В точці с = ', c, ', f(c) = ', f(c))"
      ],
      "metadata": {
        "colab": {
          "base_uri": "https://localhost:8080/"
        },
        "id": "3p6i5xHK1y3l",
        "outputId": "6c66a0ec-97a1-4d44-88d8-b57c8dc995de"
      },
      "execution_count": 3,
      "outputs": [
        {
          "output_type": "stream",
          "name": "stdout",
          "text": [
            "Результати обчислень\n",
            "\n",
            "          a      F(a)         c      F(c)         b      F(b)\n",
            "0 -3.000000  0.977954 -1.634717  0.129889 -1.000000 -0.454649\n",
            "1 -1.634717  0.129889 -1.493678 -0.133455 -1.000000 -0.454649\n",
            "2 -1.634717  0.129889 -1.565152 -0.010636 -1.493678 -0.133455\n",
            "3 -1.634717  0.129889 -1.570418 -0.000718 -1.565152 -0.010636\n",
            "\n",
            "В точці с =  -1.5704175737258015 , f(c) =  -0.0007180376446871882\n"
          ]
        }
      ]
    },
    {
      "cell_type": "markdown",
      "source": [
        "4. Метод Ньютона (дотичних)"
      ],
      "metadata": {
        "id": "40blPBSK2Cdm"
      }
    },
    {
      "cell_type": "code",
      "source": [
        "import numpy as np\n",
        "import pandas as pd\n",
        "# Визначаємо функцію\n",
        "def f(x):\n",
        "    y = np.cos(x)*np.sin(x)*(x**2+x+1)\n",
        "    return y\n",
        "# Визначаємо першу похідну\n",
        "def df(x):\n",
        "    y1 = -(x**2+x+1)*(np.sin(x))**2\n",
        "    y2 = (x**2+x+1)*(np.cos(x))**2\n",
        "    y3 = (2*x+1)*np.sin(x)*np.cos(x)\n",
        "    y = y1+y2+y3\n",
        "    return y\n",
        "# Визначаємо початкову точку\n",
        "c = -1.4\n",
        "# Визначаємо точність розв'язку\n",
        "eps = 0.001\n",
        "# Зберігаємо результати обчислень\n",
        "data_C = [c]\n",
        "data_F_C = [f(c)]\n",
        "# Перевіряємо досягнення точності\n",
        "while abs(f(c)) > eps:\n",
        "    # Точка, де дотична перетинає вісь 0x\n",
        "    c -= f(c)/df(c)\n",
        "    # Зберігаємо результати обчислень\n",
        "    data_C.append(c)\n",
        "    data_F_C.append(f(c))\n",
        "# Відображаємо результати обчислень\n",
        "print('Результати обчислень')\n",
        "print()\n",
        "data = pd.DataFrame({'c': data_C, 'F(c)': data_F_C})\n",
        "print(data)\n",
        "# Відображаємо наближений корінь рівняння\n",
        "print()\n",
        "print('В точці с = ', c, ', f(c) = ', f(c))"
      ],
      "metadata": {
        "colab": {
          "base_uri": "https://localhost:8080/"
        },
        "id": "WeGQjbjW2HDz",
        "outputId": "c922ef43-cf1f-48fa-f540-44c7267acb2e"
      },
      "execution_count": 4,
      "outputs": [
        {
          "output_type": "stream",
          "name": "stdout",
          "text": [
            "Результати обчислень\n",
            "\n",
            "          c      F(c)\n",
            "0 -1.400000 -0.261291\n",
            "1 -1.623636  0.106144\n",
            "2 -1.573564  0.005266\n",
            "3 -1.570805  0.000016\n",
            "\n",
            "В точці с =  -1.5708049170979717 , f(c) =  1.6292567852764437e-05\n"
          ]
        }
      ]
    },
    {
      "cell_type": "markdown",
      "source": [
        "5. Метод Ньютона (дотичних)"
      ],
      "metadata": {
        "id": "qjI38bTp0xCo"
      }
    },
    {
      "cell_type": "code",
      "source": [
        "import numpy as np\n",
        "import scipy.optimize as sp\n",
        "\n",
        "def f(x):\n",
        "    y = np.cos(x)*np.sin(x)*(x**2+x+1)\n",
        "    return y\n",
        "\n",
        "def df(x):# Обчислення похідної\n",
        "    y1 = -(x**2+x+1)*(np.sin(x))**2\n",
        "    y2 = (x**2+x+1)*(np.cos(x))**2\n",
        "    y3 = (2*x+1)*np.sin(x)*np.cos(x)\n",
        "    y = y1+y2+y3\n",
        "    return y\n",
        "\n",
        "x0 = -1.4\n",
        "x1 = 1.4\n",
        "\n",
        "x_0 = sp.newton(f, x0, df, tol=1.e-3, maxiter=50)\n",
        "x_1 = sp.newton(f, x1, df, tol=1.e-3, maxiter=50)\n",
        "\n",
        "print('The approximate solution x is:', x_0)\n",
        "print('And the value f(x_0) is:', f(x_0))\n",
        "\n",
        "print('The approximate solution x is:', x_1)\n",
        "print('And the value f(x_0) is:', f(x_1))"
      ],
      "metadata": {
        "colab": {
          "base_uri": "https://localhost:8080/"
        },
        "id": "AonZxq_H0m6-",
        "outputId": "872879f5-3370-4367-9c26-f4676324bfae"
      },
      "execution_count": 5,
      "outputs": [
        {
          "output_type": "stream",
          "name": "stdout",
          "text": [
            "The approximate solution x is: -1.5707963268782201\n",
            "And the value f(x_0) is: 1.5803176499052036e-10\n",
            "The approximate solution x is: 1.5707963267958693\n",
            "And the value f(x_0) is: -4.9007361645997675e-12\n"
          ]
        }
      ]
    },
    {
      "cell_type": "markdown",
      "source": [
        " # Знаходження коренів рівняння за допомогою бібліотеки SymPy"
      ],
      "metadata": {
        "id": "pvK9N9TH1QD-"
      }
    },
    {
      "cell_type": "code",
      "source": [
        "import sympy as sym\n",
        "\n",
        "x = sym.Symbol('x')\n",
        "\n",
        "y = sym.cos(x)*sym.sin(x)*(x**2+x+1)\n",
        "\n",
        "s = sym.solve(y)\n",
        "\n",
        "print(s)"
      ],
      "metadata": {
        "colab": {
          "base_uri": "https://localhost:8080/"
        },
        "id": "PuAp1WCr08qt",
        "outputId": "c6959237-33bc-4af8-b0b8-b85bad660e60"
      },
      "execution_count": 6,
      "outputs": [
        {
          "output_type": "stream",
          "name": "stdout",
          "text": [
            "[0, pi/2, pi, 3*pi/2, -1/2 - sqrt(3)*I/2, -1/2 + sqrt(3)*I/2]\n"
          ]
        }
      ]
    },
    {
      "cell_type": "code",
      "source": [
        "import sympy as sym\n",
        "\n",
        "x, a, b, c = sym.symbols('x, a, b, c')\n",
        "\n",
        "y = a * x**2 + b * x + c\n",
        "\n",
        "s = sym.solve(y, x)\n",
        "\n",
        "print(s)"
      ],
      "metadata": {
        "colab": {
          "base_uri": "https://localhost:8080/"
        },
        "id": "Y0d-uHtp1c7r",
        "outputId": "6605905a-05cf-41bb-fac2-f920eb501038"
      },
      "execution_count": 7,
      "outputs": [
        {
          "output_type": "stream",
          "name": "stdout",
          "text": [
            "[(-b - sqrt(-4*a*c + b**2))/(2*a), (-b + sqrt(-4*a*c + b**2))/(2*a)]\n"
          ]
        }
      ]
    },
    {
      "cell_type": "markdown",
      "source": [],
      "metadata": {
        "id": "mk1oBvYj1GC2"
      }
    },
    {
      "cell_type": "code",
      "source": [
        "!pip install numdifftools"
      ],
      "metadata": {
        "colab": {
          "base_uri": "https://localhost:8080/"
        },
        "id": "yiLJNuM3Cq0-",
        "outputId": "fff1f151-bee3-4785-f956-d9577b61eb2d"
      },
      "execution_count": 8,
      "outputs": [
        {
          "output_type": "stream",
          "name": "stdout",
          "text": [
            "Collecting numdifftools\n",
            "  Downloading numdifftools-0.9.41-py2.py3-none-any.whl.metadata (39 kB)\n",
            "Requirement already satisfied: numpy>=1.9 in /usr/local/lib/python3.12/dist-packages (from numdifftools) (2.0.2)\n",
            "Requirement already satisfied: scipy>=0.8 in /usr/local/lib/python3.12/dist-packages (from numdifftools) (1.16.1)\n",
            "Downloading numdifftools-0.9.41-py2.py3-none-any.whl (100 kB)\n",
            "\u001b[?25l   \u001b[90m━━━━━━━━━━━━━━━━━━━━━━━━━━━━━━━━━━━━━━━━\u001b[0m \u001b[32m0.0/100.2 kB\u001b[0m \u001b[31m?\u001b[0m eta \u001b[36m-:--:--\u001b[0m\r\u001b[2K   \u001b[90m━━━━━━━━━━━━━━━━━━━━━━━━━━━━━━━━━━━━━━━━\u001b[0m \u001b[32m100.2/100.2 kB\u001b[0m \u001b[31m4.7 MB/s\u001b[0m eta \u001b[36m0:00:00\u001b[0m\n",
            "\u001b[?25hInstalling collected packages: numdifftools\n",
            "Successfully installed numdifftools-0.9.41\n"
          ]
        }
      ]
    },
    {
      "cell_type": "code",
      "source": [
        "#Лабораторна робота 2\n",
        "#Відокремлення коренів\n",
        "import numpy as np\n",
        "import numdifftools as nd\n",
        "\n",
        "def f(x):\n",
        "    return x**4 + 4*x**3 -8*x**2 - 17\n",
        "\n",
        "\n",
        "def find_segments(): #відокремлюємо корені\n",
        "    search_range = np.arange(-5, 5, 1)\n",
        "\n",
        "    a = None\n",
        "    previous_x = None\n",
        "    current_x  = None\n",
        "    segments = []\n",
        "\n",
        "    for x in search_range:\n",
        "        x = round(x, 4)\n",
        "        current_x = f(x)\n",
        "        if previous_x != None and previous_x * current_x < 0:\n",
        "            segments.append((a, x))\n",
        "        a = x\n",
        "        previous_x = current_x\n",
        "    return segments\n",
        "\n",
        "segments = find_segments()\n",
        "for a, b in segments:\n",
        "    print(f'Found segment:  [{a}, {b}]')\n"
      ],
      "metadata": {
        "colab": {
          "base_uri": "https://localhost:8080/"
        },
        "id": "L-9dn4npCso-",
        "outputId": "9a7ff6c0-423c-4bde-c61c-9c2766e080e6"
      },
      "execution_count": 9,
      "outputs": [
        {
          "output_type": "stream",
          "name": "stdout",
          "text": [
            "Found segment:  [2, 3]\n"
          ]
        }
      ]
    },
    {
      "cell_type": "code",
      "source": [
        "import numpy as np\n",
        "import matplotlib.pyplot as plt\n",
        "\n",
        "# Визначення функції\n",
        "def f(x):\n",
        "    return x**4 + 4*x**3 -8*x**2 - 17\n",
        "\n",
        "# Генерація значень x\n",
        "x = np.linspace(-6, 4, 100)\n",
        "\n",
        "# Генерація значень y\n",
        "y = f(x)\n",
        "\n",
        "# Побудова графіка\n",
        "plt.figure(figsize=(8, 6))\n",
        "plt.plot(x, y, label='x**4 + 4*x**3 -8*x**2 - 17', color='blue')\n",
        "plt.title('Графік функції x**4 + 4*x**3 -8*x**2 - 17')\n",
        "plt.xlabel('x')\n",
        "plt.ylabel('f(x)')\n",
        "\n",
        "# Додавання осей з стрілками\n",
        "plt.axhline(0, color='black', linewidth=0.5)\n",
        "plt.axvline(0, color='black', linewidth=0.5)\n",
        "\n",
        "plt.text(2.05, -4, 'x', ha='center', va='center')\n",
        "plt.text(-0.3, 190, 'y', ha='center', va='center')\n",
        "\n",
        "plt.grid(True)\n",
        "plt.legend()\n",
        "plt.show()\n"
      ],
      "metadata": {
        "colab": {
          "base_uri": "https://localhost:8080/",
          "height": 564
        },
        "id": "7zUI3d1xZXar",
        "outputId": "baf89020-0d55-47a4-f25a-ed78fe77c761"
      },
      "execution_count": 10,
      "outputs": [
        {
          "output_type": "display_data",
          "data": {
            "text/plain": [
              "<Figure size 800x600 with 1 Axes>"
            ],
            "image/png": "[encoded data removed]"
          },
          "metadata": {}
        }
      ]
    },
    {
      "cell_type": "markdown",
      "source": [
        "![image.png](data:image/png;base64,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)"
      ],
      "metadata": {
        "id": "ZiQMN3Wwx7Z8"
      }
    },
    {
      "cell_type": "code",
      "source": [
        "#Лабораторна робота. Метод половинного ділення, хорд\n",
        "\n",
        "def rec(a, b, eps):  # метод половинного ділення\n",
        "    while (np.abs(a - b) > eps):\n",
        "        if f(a) * f((a + b) / 2) < 0:\n",
        "            b = (a + b) / 2\n",
        "        else:\n",
        "            a = (a + b) / 2\n",
        "        x = (a + b) / 2\n",
        "\n",
        "    print('x= ', round(x, 5), '  -   Half division method')\n"
      ],
      "metadata": {
        "id": "BgjK94O9Cfxe"
      },
      "execution_count": 11,
      "outputs": []
    },
    {
      "cell_type": "code",
      "source": [
        "def hord(a, b, eps):  # метод хорд\n",
        "    derivative_f = nd.Derivative(f, n=2)\n",
        "    if f(a) * derivative_f(a) > 0:\n",
        "        x0 = a\n",
        "        xi = b\n",
        "    else:\n",
        "        x0 = b\n",
        "        xi = a\n",
        "    xi_1 = xi - (xi - x0) * f(xi) / (f(xi) - f(x0))\n",
        "    while (np.abs(xi_1 - xi) > eps):\n",
        "        xi = xi_1\n",
        "        xi_1 = xi - (xi - x0) * f(xi) / (f(xi) - f(x0))\n",
        "    print('x= ', round(xi_1, 5), '  -   Chord method')\n"
      ],
      "metadata": {
        "id": "Sz_KWVf7D2tL"
      },
      "execution_count": 12,
      "outputs": []
    },
    {
      "cell_type": "code",
      "source": [
        "if __name__ == \"__main__\":\n",
        "    a1, b1 = -5, -6\n",
        "    a2, b2 = 2, 3\n",
        "    eps = 0.001\n",
        "    print(\"Розв'язки на відрізку [-5,-6]\")\n",
        "    rec(a1, b1, eps)\n",
        "    hord(a1, b1, eps)\n",
        "    print(\"\\n Розв'язки на відрізку [2,3]\")\n",
        "    rec(a2, b2, eps)\n",
        "    hord(a2, b2, eps)"
      ],
      "metadata": {
        "id": "upx7R4yoFZj_",
        "outputId": "d145062b-e526-4f35-b0f5-d1fc1791cc77",
        "colab": {
          "base_uri": "https://localhost:8080/"
        }
      },
      "execution_count": 13,
      "outputs": [
        {
          "output_type": "stream",
          "name": "stdout",
          "text": [
            "Розв'язки на відрізку [-5,-6]\n",
            "x=  -5.54346   -   Half division method\n",
            "x=  -5.54288   -   Chord method\n",
            "\n",
            " Розв'язки на відрізку [2,3]\n",
            "x=  2.02002   -   Half division method\n",
            "x=  2.01974   -   Chord method\n"
          ]
        }
      ]
    },
    {
      "cell_type": "code",
      "source": [
        "import sympy as sym\n",
        "\n",
        "x, a, b, c = sym.symbols('x, a, b, c')\n",
        "f = x**4 + 4*x**3 - 8*x**2 - 17\n",
        "s = sym.solve(f, x)\n",
        "print(s)"
      ],
      "metadata": {
        "colab": {
          "base_uri": "https://localhost:8080/"
        },
        "id": "cYJ-q7uyvA2L",
        "outputId": "3be3a89d-834e-4c89-b400-864646a6fda4"
      },
      "execution_count": 14,
      "outputs": [
        {
          "output_type": "stream",
          "name": "stdout",
          "text": [
            "[-1 - sqrt(-70/(9*(-1135/27 + 10*sqrt(1479)/9)**(1/3)) + 2*(-1135/27 + 10*sqrt(1479)/9)**(1/3) + 28/3)/2 + sqrt(-2*(-1135/27 + 10*sqrt(1479)/9)**(1/3) + 70/(9*(-1135/27 + 10*sqrt(1479)/9)**(1/3)) + 56/3 + 48/sqrt(-70/(9*(-1135/27 + 10*sqrt(1479)/9)**(1/3)) + 2*(-1135/27 + 10*sqrt(1479)/9)**(1/3) + 28/3))/2, -1 + sqrt(-70/(9*(-1135/27 + 10*sqrt(1479)/9)**(1/3)) + 2*(-1135/27 + 10*sqrt(1479)/9)**(1/3) + 28/3)/2 - sqrt(-48/sqrt(-70/(9*(-1135/27 + 10*sqrt(1479)/9)**(1/3)) + 2*(-1135/27 + 10*sqrt(1479)/9)**(1/3) + 28/3) - 2*(-1135/27 + 10*sqrt(1479)/9)**(1/3) + 70/(9*(-1135/27 + 10*sqrt(1479)/9)**(1/3)) + 56/3)/2, -1 + sqrt(-70/(9*(-1135/27 + 10*sqrt(1479)/9)**(1/3)) + 2*(-1135/27 + 10*sqrt(1479)/9)**(1/3) + 28/3)/2 + sqrt(-48/sqrt(-70/(9*(-1135/27 + 10*sqrt(1479)/9)**(1/3)) + 2*(-1135/27 + 10*sqrt(1479)/9)**(1/3) + 28/3) - 2*(-1135/27 + 10*sqrt(1479)/9)**(1/3) + 70/(9*(-1135/27 + 10*sqrt(1479)/9)**(1/3)) + 56/3)/2, -sqrt(-2*(-1135/27 + 10*sqrt(1479)/9)**(1/3) + 70/(9*(-1135/27 + 10*sqrt(1479)/9)**(1/3)) + 56/3 + 48/sqrt(-70/(9*(-1135/27 + 10*sqrt(1479)/9)**(1/3)) + 2*(-1135/27 + 10*sqrt(1479)/9)**(1/3) + 28/3))/2 - 1 - sqrt(-70/(9*(-1135/27 + 10*sqrt(1479)/9)**(1/3)) + 2*(-1135/27 + 10*sqrt(1479)/9)**(1/3) + 28/3)/2]\n"
          ]
        }
      ]
    },
    {
      "cell_type": "code",
      "source": [
        "!pip install numdifftools"
      ],
      "metadata": {
        "colab": {
          "base_uri": "https://localhost:8080/"
        },
        "id": "hCDH_QI6vW8l",
        "outputId": "17100e53-5377-44be-94a9-ef84202fe847"
      },
      "execution_count": 15,
      "outputs": [
        {
          "output_type": "stream",
          "name": "stdout",
          "text": [
            "Requirement already satisfied: numdifftools in /usr/local/lib/python3.12/dist-packages (0.9.41)\n",
            "Requirement already satisfied: numpy>=1.9 in /usr/local/lib/python3.12/dist-packages (from numdifftools) (2.0.2)\n",
            "Requirement already satisfied: scipy>=0.8 in /usr/local/lib/python3.12/dist-packages (from numdifftools) (1.16.1)\n"
          ]
        }
      ]
    },
    {
      "cell_type": "code",
      "source": [
        "import numdifftools as nd"
      ],
      "metadata": {
        "id": "wVRupxhquq60"
      },
      "execution_count": 16,
      "outputs": []
    },
    {
      "cell_type": "code",
      "source": [
        "#Лабораторна робота 3. Метод Ньютона (дотичних). Комбінований метод\n",
        "\n",
        "import numpy as np\n",
        "import numdifftools as nd\n",
        "\n",
        "def f(x):\n",
        "    return x**4 + 4*x**3 -8*x**2 - 17\n",
        "\n",
        "def nuton(a, b, eps, f):\n",
        "    df1 = nd.Derivative(f, n=1)   # створюємо callable для 1-ї похідної\n",
        "    df2 = nd.Derivative(f, n=2)   # і для 2-ї\n",
        "    xi = b if f(b) * df2(b) > 0 else a\n",
        "\n",
        "    xi_1 = xi - f(xi) / df1(xi)\n",
        "    while np.abs(xi_1 - xi) > eps:\n",
        "        xi = xi_1\n",
        "        d = df1(xi)\n",
        "        if d == 0:\n",
        "            raise ZeroDivisionError(\"Похідна дорівнює нулю — зупинка.\")\n",
        "        xi_1 = xi - f(xi) / d\n",
        "\n",
        "    print('Метод Ньютона, x =', round(float(xi_1), 4))"
      ],
      "metadata": {
        "id": "t-FUcU4Fj0-f"
      },
      "execution_count": 17,
      "outputs": []
    },
    {
      "cell_type": "code",
      "source": [
        "def komb(a, b, eps, f):\n",
        "    df2 = nd.Derivative(f, n=2)(a)\n",
        "    if f(a) * df2 > 0:\n",
        "        a0, b0 = a, b\n",
        "    else:\n",
        "        a0, b0 = b, a\n",
        "    ai, bi = a0, b0\n",
        "\n",
        "    while np.abs(ai - bi) > eps:\n",
        "        ai_1 = ai - f(ai) * (bi - ai) / (f(bi) - f(ai))\n",
        "        bi_1 = bi - f(bi) / nd.Derivative(f, n=1)(bi)\n",
        "        ai, bi = ai_1, bi_1\n",
        "\n",
        "    x = (ai_1 + bi_1) / 2\n",
        "\n",
        "    print('Комбінований метод, x = ', x.round(4))\n"
      ],
      "metadata": {
        "id": "M2T4FA4ifyy_"
      },
      "execution_count": 18,
      "outputs": []
    },
    {
      "cell_type": "code",
      "source": [
        "if __name__ == \"__main__\":\n",
        "    a1, b1 = -2, -1\n",
        "    a2, b2 = 0, 1\n",
        "    eps = 0.001\n",
        "\n",
        "    print(\"Розв'язання на відрізку [-5, -6]\")\n",
        "    nuton(a1, b1, eps, f)\n",
        "    komb(a1, b1, eps, f)\n",
        "    print(\"\\n Розв'язання на відрізку [2, 3]\")\n",
        "    nuton(a2, b2, eps, f)\n",
        "    komb(a2, b2, eps, f)"
      ],
      "metadata": {
        "colab": {
          "base_uri": "https://localhost:8080/"
        },
        "id": "zrxTpvysf0zN",
        "outputId": "eb6f72b1-1348-44bf-b0c4-37bdd8f286df"
      },
      "execution_count": 19,
      "outputs": [
        {
          "output_type": "stream",
          "name": "stdout",
          "text": [
            "Розв'язання на відрізку [-5, -6]\n",
            "Метод Ньютона, x = -5.5431\n",
            "Комбінований метод, x =  -5.5432\n",
            "\n",
            " Розв'язання на відрізку [2, 3]\n",
            "Метод Ньютона, x = nan\n",
            "Комбінований метод, x =  nan\n"
          ]
        },
        {
          "output_type": "stream",
          "name": "stderr",
          "text": [
            "/tmp/ipython-input-367762400.py:14: RuntimeWarning: divide by zero encountered in divide\n",
            "  xi_1 = xi - f(xi) / df1(xi)\n",
            "/usr/local/lib/python3.12/dist-packages/numpy/lib/_nanfunctions_impl.py:1634: RuntimeWarning: All-NaN slice encountered\n",
            "  return fnb._ureduce(a,\n",
            "/usr/local/lib/python3.12/dist-packages/numdifftools/limits.py:150: UserWarning: All-NaN slice encountered\n",
            "  warnings.warn(str(msg))\n",
            "/tmp/ipython-input-367762400.py:7: RuntimeWarning: invalid value encountered in scalar subtract\n",
            "  return x**4 + 4*x**3 -8*x**2 - 17\n",
            "/tmp/ipython-input-3410986092.py:11: RuntimeWarning: divide by zero encountered in divide\n",
            "  bi_1 = bi - f(bi) / nd.Derivative(f, n=1)(bi)\n",
            "/tmp/ipython-input-367762400.py:7: RuntimeWarning: invalid value encountered in scalar subtract\n",
            "  return x**4 + 4*x**3 -8*x**2 - 17\n",
            "/usr/local/lib/python3.12/dist-packages/numpy/lib/_nanfunctions_impl.py:1634: RuntimeWarning: All-NaN slice encountered\n",
            "  return fnb._ureduce(a,\n",
            "/usr/local/lib/python3.12/dist-packages/numdifftools/limits.py:150: UserWarning: All-NaN slice encountered\n",
            "  warnings.warn(str(msg))\n"
          ]
        }
      ]
    },
    {
      "cell_type": "markdown",
      "source": [
        "Завдання 3. Лабораторна робота 3\n",
        "\n",
        "Тема: Відокремлення дійсних коренів рівнянь та їх уточнення методом простої ітерації."
      ],
      "metadata": {
        "id": "370aMnuwjPeK"
      }
    },
    {
      "cell_type": "code",
      "source": [
        "!pip install numdifftools"
      ],
      "metadata": {
        "colab": {
          "base_uri": "https://localhost:8080/"
        },
        "id": "Rc37HrNui3h5",
        "outputId": "b7c3110c-c327-4b46-9737-af92d0d49643"
      },
      "execution_count": 20,
      "outputs": [
        {
          "output_type": "stream",
          "name": "stdout",
          "text": [
            "Requirement already satisfied: numdifftools in /usr/local/lib/python3.12/dist-packages (0.9.41)\n",
            "Requirement already satisfied: numpy>=1.9 in /usr/local/lib/python3.12/dist-packages (from numdifftools) (2.0.2)\n",
            "Requirement already satisfied: scipy>=0.8 in /usr/local/lib/python3.12/dist-packages (from numdifftools) (1.16.1)\n"
          ]
        }
      ]
    },
    {
      "cell_type": "code",
      "source": [
        "import numdifftools as nd"
      ],
      "metadata": {
        "id": "mCRRGRFlizK1"
      },
      "execution_count": 21,
      "outputs": []
    },
    {
      "cell_type": "markdown",
      "source": [
        "![image.png](data:image/png;base64,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)"
      ],
      "metadata": {
        "id": "QZHzW323o7r2"
      }
    },
    {
      "cell_type": "markdown",
      "source": [
        "Визначаємо, що корінь належить відрізку [-0.7, 1.3]"
      ],
      "metadata": {
        "id": "49S6DfpDqrQZ"
      }
    },
    {
      "cell_type": "code",
      "source": [
        "def f(x: float):\n",
        "    return x**3 + 3*x - 1\n",
        "\n",
        "def fprime(x: float):\n",
        "    return nd.Derivative(f, n=1)\n",
        "\n",
        "def phi(x: float):\n",
        "    # c = -0.1 (забезпечує |phi'(x)|<1 на [-3,-1])\n",
        "    return x - 0.1 * f(x)\n",
        "\n",
        "def iterate_fixed_point(x0: float, iters: int = 5):\n",
        "    xs = [x0]\n",
        "    x = x0\n",
        "    for _ in range(iters):\n",
        "        x = phi(x)\n",
        "        xs.append(x)\n",
        "    return xs\n",
        "\n",
        "def error_bound(x_last: float) -> float:\n",
        "    # μ = min_{x∈[-3,-1]} |f'(x)| = 2\n",
        "    mu = 2.0\n",
        "    return abs(f(x_last)) / mu\n",
        "\n"
      ],
      "metadata": {
        "id": "gt8HxS1AiM0Y"
      },
      "execution_count": 22,
      "outputs": []
    },
    {
      "cell_type": "code",
      "source": [
        "def main():\n",
        "    x0 = -1.0\n",
        "    iters = 5\n",
        "    xs = iterate_fixed_point(x0, iters)\n",
        "    print(\"Fixed-point iteration for f(x) = x^3 - x + 7 with phi(x) = x - 0.1*f(x)\")\n",
        "    print(f\"Interval: [-3, -1], start x0 = {x0}\")\n",
        "    for i, xi in enumerate(xs):\n",
        "        if i == 0:\n",
        "            print(f\"x_{i} = {xi:.10f}\")\n",
        "        else:\n",
        "            print(f\"x_{i} = phi(x_{i-1}) = {xi:.10f}\")\n",
        "    bound = error_bound(xs[-1])\n",
        "    print(\"\\nError bound after 5 iterations:  |ξ - x5| ≤ |f(x5)| / μ\")\n",
        "    print(f\"f(x5) = {f(xs[-1]):.10f},  μ = 2  ⇒  |ξ - x5| ≤ {bound:.10f}\")\n",
        "    return xs[-1], bound\n",
        "\n",
        "if __name__ == \"__main__\":\n",
        "    root_approx, bound = main()"
      ],
      "metadata": {
        "colab": {
          "base_uri": "https://localhost:8080/"
        },
        "id": "NcUIwAOAimLR",
        "outputId": "35cf28b5-9c48-44e9-eb52-6dc1bbaab3bd"
      },
      "execution_count": 23,
      "outputs": [
        {
          "output_type": "stream",
          "name": "stdout",
          "text": [
            "Fixed-point iteration for f(x) = x^3 - x + 7 with phi(x) = x - 0.1*f(x)\n",
            "Interval: [-3, -1], start x0 = -1.0\n",
            "x_0 = -1.0000000000\n",
            "x_1 = phi(x_0) = -0.5000000000\n",
            "x_2 = phi(x_1) = -0.2375000000\n",
            "x_3 = phi(x_2) = -0.0649103516\n",
            "x_4 = phi(x_3) = 0.0545901029\n",
            "x_5 = phi(x_4) = 0.1381968038\n",
            "\n",
            "Error bound after 5 iterations:  |ξ - x5| ≤ |f(x5)| / μ\n",
            "f(x5) = -0.5827702569,  μ = 2  ⇒  |ξ - x5| ≤ 0.2913851284\n"
          ]
        }
      ]
    },
    {
      "cell_type": "markdown",
      "source": [
        "Спрощений варіант коду\n"
      ],
      "metadata": {
        "id": "_gkwLHTNkDwS"
      }
    },
    {
      "cell_type": "code",
      "source": [
        "# Рівняння: f(x) = x**3 + 3*x - 1 = 0\n",
        "# Ітераційна функція: φ(x) = x - 0.1 * f(x)  (c = -0.1)\n",
        "# Початкове наближення: x0 = -1\n",
        "# Кількість ітерацій: 5\n",
        "# Оцінка похибки: |ξ - x5| ≤ |f(x5)| / μ, де μ = min_{[-3,-1]} |f'(x)| = 2\n",
        "\n",
        "def f(x):\n",
        "    return x**3 - x + 7\n",
        "\n",
        "def phi(x):\n",
        "    return x - 0.1 * f(x)   # c = -0.1\n",
        "\n",
        "def fixed_point(x0=-1.0, iters=5):\n",
        "    xs = [x0]\n",
        "    for _ in range(iters):\n",
        "        xs.append(phi(xs[-1]))\n",
        "    return xs\n",
        "\n",
        "# Запуск і вивід результатів\n",
        "xs = fixed_point(-1.0, 5)\n",
        "\n",
        "for i, xi in enumerate(xs):\n",
        "    print(f\"x_{i} = {xi:.10f}\")\n",
        "\n",
        "# Похибка методу простої ітерації після 5-ї ітерації\n",
        "mu = 2.0                      # μ = min_{[-3,-1]} |3x^2 - 1| = 2\n",
        "err_bound = abs(f(xs[-1]))/mu\n",
        "print(f\"\\nОцінка похибки: |ξ - x5| ≤ {err_bound:.10f}\")"
      ],
      "metadata": {
        "colab": {
          "base_uri": "https://localhost:8080/"
        },
        "id": "womZO91vj9vN",
        "outputId": "1fccfabd-4044-4679-d467-da04248b1598"
      },
      "execution_count": 24,
      "outputs": [
        {
          "output_type": "stream",
          "name": "stdout",
          "text": [
            "x_0 = -1.0000000000\n",
            "x_1 = -1.7000000000\n",
            "x_2 = -2.0787000000\n",
            "x_3 = -2.0883650417\n",
            "x_4 = -2.0864094687\n",
            "x_5 = -2.0868145769\n",
            "\n",
            "Оцінка похибки: |ξ - x5| ≤ 0.0004176360\n"
          ]
        }
      ]
    }
  ]
}